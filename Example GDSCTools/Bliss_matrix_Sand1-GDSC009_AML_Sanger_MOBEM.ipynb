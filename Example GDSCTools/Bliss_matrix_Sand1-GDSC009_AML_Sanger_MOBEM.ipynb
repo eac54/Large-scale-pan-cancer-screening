{
 "cells": [
  {
   "cell_type": "code",
   "execution_count": 1,
   "metadata": {},
   "outputs": [
    {
     "name": "stdout",
     "output_type": "stream",
     "text": [
      "1  unnamed columns found and removed. Please fix your input file.\n"
     ]
    }
   ],
   "source": [
    "from gdsctools import IC50\n",
    "from gdsctools import ANOVA\n",
    "from gdsctools import DrugDecode\n",
    "from gdsctools import GenomicFeatures\n",
    "breast = IC50('../../../../Sand1-GDSC009_Bliss.csv')\n",
    "gf = GenomicFeatures('Acute Myeloid Leukemia_PANCAN_simple_MOBEM.csv')"
   ]
  },
  {
   "cell_type": "code",
   "execution_count": 2,
   "metadata": {},
   "outputs": [
    {
     "name": "stdout",
     "output_type": "stream",
     "text": [
      "WARNING: 718 cosmic identifiers in your IC50 could not be found in the genomic feature matrix. They will be dropped. Consider using a user-defined genomic features matrix\n"
     ]
    },
    {
     "data": {
      "text/plain": [
       "array(['UNDEFINED'], dtype=object)"
      ]
     },
     "execution_count": 2,
     "metadata": {},
     "output_type": "execute_result"
    }
   ],
   "source": [
    "gdsc = ANOVA(breast, gf)\n",
    "gdsc.tissue_factor.unique()\n",
    "\n"
   ]
  },
  {
   "cell_type": "code",
   "execution_count": 3,
   "metadata": {},
   "outputs": [
    {
     "name": "stdout",
     "output_type": "stream",
     "text": [
      " [                  0%                  ] 0 of 83 complete in 0.0 sec[                  1%                  ] 1 of 83 complete in 0.2 sec[                  2%                  ] 2 of 83 complete in 0.4 sec[-                 3%                  ] 3 of 83 complete in 0.7 sec[-                 4%                  ] 4 of 83 complete in 1.0 sec[--                6%                  ] 5 of 83 complete in 1.2 sec[--                7%                  ] 6 of 83 complete in 1.5 sec[---               8%                  ] 7 of 83 complete in 1.7 sec[---               9%                  ] 8 of 83 complete in 2.0 sec[----             10%                  ] 9 of 83 complete in 2.3 sec[----             12%                  ] 10 of 83 complete in 2.5 sec[-----            13%                  ] 11 of 83 complete in 2.7 sec[-----            14%                  ] 12 of 83 complete in 3.0 sec[-----            15%                  ] 13 of 83 complete in 3.3 sec[------           16%                  ] 14 of 83 complete in 3.5 sec[------           18%                  ] 15 of 83 complete in 3.8 sec[-------          19%                  ] 16 of 83 complete in 4.0 sec[-------          20%                  ] 17 of 83 complete in 4.2 sec[--------         21%                  ] 18 of 83 complete in 4.5 sec[--------         22%                  ] 19 of 83 complete in 4.7 sec[---------        24%                  ] 20 of 83 complete in 5.0 sec[---------        25%                  ] 21 of 83 complete in 5.3 sec[----------       26%                  ] 22 of 83 complete in 5.5 sec[----------       27%                  ] 23 of 83 complete in 5.8 sec[----------       28%                  ] 24 of 83 complete in 6.0 sec[-----------      30%                  ] 25 of 83 complete in 6.2 sec[-----------      31%                  ] 26 of 83 complete in 6.5 sec[------------     32%                  ] 27 of 83 complete in 6.8 sec[------------     33%                  ] 28 of 83 complete in 7.0 sec[-------------    34%                  ] 29 of 83 complete in 7.3 sec[-------------    36%                  ] 30 of 83 complete in 7.6 sec[--------------   37%                  ] 31 of 83 complete in 7.8 sec[--------------   38%                  ] 32 of 83 complete in 8.1 sec[---------------  39%                  ] 33 of 83 complete in 8.3 sec[---------------  40%                  ] 34 of 83 complete in 8.5 sec[---------------- 42%                  ] 35 of 83 complete in 8.8 sec[---------------- 43%                  ] 36 of 83 complete in 9.1 sec[---------------- 44%                  ] 37 of 83 complete in 9.3 sec[-----------------45%                  ] 38 of 83 complete in 9.6 sec[-----------------46%                  ] 39 of 83 complete in 9.8 sec[-----------------48%                  ] 40 of 83 complete in 10.1 sec[-----------------49%                  ] 41 of 83 complete in 10.3 sec[-----------------50%                  ] 42 of 83 complete in 10.6 sec[-----------------51%                  ] 43 of 83 complete in 10.8 sec[-----------------53%                  ] 44 of 83 complete in 11.1 sec[-----------------54%                  ] 45 of 83 complete in 11.3 sec[-----------------55%-                 ] 46 of 83 complete in 11.6 sec[-----------------56%-                 ] 47 of 83 complete in 11.8 sec[-----------------57%-                 ] 48 of 83 complete in 12.1 sec[-----------------59%--                ] 49 of 83 complete in 12.3 sec[-----------------60%--                ] 50 of 83 complete in 12.6 sec[-----------------61%---               ] 51 of 83 complete in 12.8 sec[-----------------62%---               ] 52 of 83 complete in 13.1 sec[-----------------63%----              ] 53 of 83 complete in 13.3 sec[-----------------65%----              ] 54 of 83 complete in 13.6 sec[-----------------66%-----             ] 55 of 83 complete in 13.9 sec[-----------------67%-----             ] 56 of 83 complete in 14.1 sec"
     ]
    },
    {
     "name": "stderr",
     "output_type": "stream",
     "text": [
      "/Users/ec18/opt/anaconda2/lib/python2.7/site-packages/gdsctools/anova.py:254: RuntimeWarning: divide by zero encountered in double_scalars\n",
      "  dd.neg_glass = md / dd.neg_IC50_std\n"
     ]
    },
    {
     "name": "stdout",
     "output_type": "stream",
     "text": [
      " [-----------------68%------            ] 57 of 83 complete in 14.4 sec[-----------------69%------            ] 58 of 83 complete in 14.6 sec[-----------------71%-------           ] 59 of 83 complete in 15.8 sec[-----------------72%-------           ] 60 of 83 complete in 16.4 sec[-----------------73%-------           ] 61 of 83 complete in 16.8 sec[-----------------74%--------          ] 62 of 83 complete in 17.2 sec[-----------------75%--------          ] 63 of 83 complete in 17.9 sec[-----------------77%---------         ] 64 of 83 complete in 18.1 sec[-----------------78%---------         ] 65 of 83 complete in 18.4 sec[-----------------79%----------        ] 66 of 83 complete in 18.6 sec[-----------------80%----------        ] 67 of 83 complete in 18.9 sec[-----------------81%-----------       ] 68 of 83 complete in 19.3 sec[-----------------83%-----------       ] 69 of 83 complete in 19.5 sec[-----------------84%------------      ] 70 of 83 complete in 19.8 sec[-----------------85%------------      ] 71 of 83 complete in 20.1 sec[-----------------86%------------      ] 72 of 83 complete in 20.3 sec[-----------------87%-------------     ] 73 of 83 complete in 20.6 sec[-----------------89%-------------     ] 74 of 83 complete in 20.9 sec[-----------------90%--------------    ] 75 of 83 complete in 21.2 sec[-----------------91%--------------    ] 76 of 83 complete in 21.4 sec[-----------------92%---------------   ] 77 of 83 complete in 21.6 sec[-----------------93%---------------   ] 78 of 83 complete in 21.9 sec[-----------------95%----------------  ] 79 of 83 complete in 22.6 sec[-----------------96%----------------  ] 80 of 83 complete in 23.0 sec[-----------------97%----------------- ] 81 of 83 complete in 23.4 sec[-----------------98%----------------- ] 82 of 83 complete in 24.1 sec[-----------------100%-----------------] 83 of 83 complete in 24.6 sec\n",
      "\n"
     ]
    },
    {
     "name": "stderr",
     "output_type": "stream",
     "text": [
      "/Users/ec18/opt/anaconda2/lib/python2.7/site-packages/gdsctools/anova_report.py:111: UserWarning: No drug name or target will be populated.You may want to provide a DRUG_DECODE file.\n",
      "  warnings.warn(\"No drug name or target will be populated.\"\n"
     ]
    },
    {
     "name": "stdout",
     "output_type": "stream",
     "text": [
      "Creating main HTML page in directory UNDEFINED\n",
      "Created directory UNDEFINED\n",
      "openning UNDEFINED/index.html\n",
      "Creating individual HTML pages for each drug\n",
      " [                  1%                  ] 1 of 83 complete in 0.3 sec[                  2%                  ] 2 of 83 complete in 0.6 sec[-                 3%                  ] 3 of 83 complete in 0.9 sec[-                 4%                  ] 4 of 83 complete in 1.1 sec[--                6%                  ] 5 of 83 complete in 1.4 sec[--                7%                  ] 6 of 83 complete in 1.6 sec[---               8%                  ] 7 of 83 complete in 1.8 sec[---               9%                  ] 8 of 83 complete in 2.0 sec[----             10%                  ] 9 of 83 complete in 2.7 sec[----             12%                  ] 10 of 83 complete in 3.0 sec[-----            13%                  ] 11 of 83 complete in 3.3 sec[-----            14%                  ] 12 of 83 complete in 3.5 sec[-----            15%                  ] 13 of 83 complete in 3.8 sec[------           16%                  ] 14 of 83 complete in 4.1 sec[------           18%                  ] 15 of 83 complete in 4.3 sec[-------          19%                  ] 16 of 83 complete in 4.6 sec[-------          20%                  ] 17 of 83 complete in 4.9 sec[--------         21%                  ] 18 of 83 complete in 5.2 sec[--------         22%                  ] 19 of 83 complete in 5.4 sec[---------        24%                  ] 20 of 83 complete in 5.6 sec[---------        25%                  ] 21 of 83 complete in 5.8 sec[----------       26%                  ] 22 of 83 complete in 6.0 sec[----------       27%                  ] 23 of 83 complete in 6.2 sec[----------       28%                  ] 24 of 83 complete in 6.4 sec[-----------      30%                  ] 25 of 83 complete in 6.6 sec[-----------      31%                  ] 26 of 83 complete in 6.8 sec[------------     32%                  ] 27 of 83 complete in 7.0 sec[------------     33%                  ] 28 of 83 complete in 7.2 sec[-------------    34%                  ] 29 of 83 complete in 7.4 sec[-------------    36%                  ] 30 of 83 complete in 7.6 sec[--------------   37%                  ] 31 of 83 complete in 7.7 sec[--------------   38%                  ] 32 of 83 complete in 7.9 sec[---------------  39%                  ] 33 of 83 complete in 8.1 sec[---------------  40%                  ] 34 of 83 complete in 8.2 sec[---------------- 42%                  ] 35 of 83 complete in 8.4 sec[---------------- 43%                  ] 36 of 83 complete in 8.5 sec[---------------- 44%                  ] 37 of 83 complete in 8.7 sec[-----------------45%                  ] 38 of 83 complete in 8.8 sec[-----------------46%                  ] 39 of 83 complete in 9.0 sec[-----------------48%                  ] 40 of 83 complete in 9.2 sec[-----------------49%                  ] 41 of 83 complete in 9.3 sec[-----------------50%                  ] 42 of 83 complete in 9.5 sec[-----------------51%                  ] 43 of 83 complete in 9.6 sec[-----------------53%                  ] 44 of 83 complete in 9.8 sec[-----------------54%                  ] 45 of 83 complete in 9.9 sec[-----------------55%-                 ] 46 of 83 complete in 10.0 sec[-----------------56%-                 ] 47 of 83 complete in 10.2 sec[-----------------57%-                 ] 48 of 83 complete in 10.3 sec[-----------------59%--                ] 49 of 83 complete in 10.5 sec[-----------------60%--                ] 50 of 83 complete in 10.7 sec[-----------------61%---               ] 51 of 83 complete in 10.8 sec[-----------------62%---               ] 52 of 83 complete in 10.9 sec[-----------------63%----              ] 53 of 83 complete in 11.1 sec[-----------------65%----              ] 54 of 83 complete in 11.2 sec[-----------------66%-----             ] 55 of 83 complete in 11.3 sec[-----------------67%-----             ] 56 of 83 complete in 11.5 sec[-----------------68%------            ] 57 of 83 complete in 11.6 sec[-----------------69%------            ] 58 of 83 complete in 11.8 sec[-----------------71%-------           ] 59 of 83 complete in 11.9 sec[-----------------72%-------           ] 60 of 83 complete in 12.1 sec[-----------------73%-------           ] 61 of 83 complete in 12.2 sec[-----------------74%--------          ] 62 of 83 complete in 12.4 sec[-----------------75%--------          ] 63 of 83 complete in 12.5 sec[-----------------77%---------         ] 64 of 83 complete in 12.7 sec[-----------------78%---------         ] 65 of 83 complete in 12.8 sec[-----------------79%----------        ] 66 of 83 complete in 13.0 sec[-----------------80%----------        ] 67 of 83 complete in 13.1 sec[-----------------81%-----------       ] 68 of 83 complete in 13.2 sec[-----------------83%-----------       ] 69 of 83 complete in 13.4 sec[-----------------84%------------      ] 70 of 83 complete in 13.5 sec[-----------------85%------------      ] 71 of 83 complete in 13.6 sec[-----------------86%------------      ] 72 of 83 complete in 13.7 sec[-----------------87%-------------     ] 73 of 83 complete in 13.8 sec[-----------------89%-------------     ] 74 of 83 complete in 14.0 sec[-----------------90%--------------    ] 75 of 83 complete in 14.1 sec[-----------------91%--------------    ] 76 of 83 complete in 14.2 sec[-----------------92%---------------   ] 77 of 83 complete in 14.3 sec[-----------------93%---------------   ] 78 of 83 complete in 14.5 sec[-----------------95%----------------  ] 79 of 83 complete in 14.6 sec[-----------------96%----------------  ] 80 of 83 complete in 14.7 sec[-----------------97%----------------- ] 81 of 83 complete in 14.9 sec[-----------------98%----------------- ] 82 of 83 complete in 15.0 sec[-----------------100%-----------------] 83 of 83 complete in 15.1 sec\n",
      "\n",
      "Creating individual HTML pages for each feature\n",
      "\n",
      "\n",
      "Creating individual HTML pages for each significant association\n",
      "\n",
      "\n"
     ]
    }
   ],
   "source": [
    "results = gdsc.anova_all()\n",
    "from gdsctools import ANOVAReport\n",
    "report = ANOVAReport(gdsc, results)\n",
    "report.create_html_pages()"
   ]
  },
  {
   "cell_type": "code",
   "execution_count": null,
   "metadata": {},
   "outputs": [],
   "source": []
  }
 ],
 "metadata": {
  "kernelspec": {
   "display_name": "Python 2",
   "language": "python",
   "name": "python2"
  },
  "language_info": {
   "codemirror_mode": {
    "name": "ipython",
    "version": 2
   },
   "file_extension": ".py",
   "mimetype": "text/x-python",
   "name": "python",
   "nbconvert_exporter": "python",
   "pygments_lexer": "ipython2",
   "version": "2.7.16"
  }
 },
 "nbformat": 4,
 "nbformat_minor": 2
}
